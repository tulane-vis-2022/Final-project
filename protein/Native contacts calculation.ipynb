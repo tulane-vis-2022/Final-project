{
 "cells": [
  {
   "cell_type": "code",
   "execution_count": 2,
   "id": "bd4c8fae",
   "metadata": {},
   "outputs": [],
   "source": [
    "import numpy as np\n",
    "import mdtraj as md\n",
    "from itertools import combinations\n",
    "\n",
    "def best_hummer_q(traj, native):\n",
    "    \"\"\"Compute the fraction of native contacts according the definition from\n",
    "    Best, Hummer and Eaton [1]\n",
    "    \n",
    "    Parameters\n",
    "    ----------\n",
    "    traj : md.Trajectory\n",
    "        The trajectory to do the computation for\n",
    "    native : md.Trajectory\n",
    "        The 'native state'. This can be an entire trajecory, or just a single frame.\n",
    "        Only the first conformation is used\n",
    "        \n",
    "    Returns\n",
    "    -------\n",
    "    q : np.array, shape=(len(traj),)\n",
    "        The fraction of native contacts in each frame of `traj`\n",
    "        \n",
    "    References\n",
    "    ----------\n",
    "    ..[1] Best, Hummer, and Eaton, \"Native contacts determine protein folding\n",
    "          mechanisms in atomistic simulations\" PNAS (2013)\n",
    "    \"\"\"\n",
    "    \n",
    "    BETA_CONST = 50  # 1/nm\n",
    "    LAMBDA_CONST = 1.8\n",
    "    NATIVE_CUTOFF = 0.45  # nanometers\n",
    "    \n",
    "    # get the indices of all of the heavy atoms\n",
    "    heavy = native.topology.select_atom_indices('heavy')\n",
    "    # get the pairs of heavy atoms which are farther than 3\n",
    "    # residues apart\n",
    "    heavy_pairs = np.array(\n",
    "        [(i,j) for (i,j) in combinations(heavy, 2)\n",
    "            if abs(native.topology.atom(i).residue.index - \\\n",
    "                   native.topology.atom(j).residue.index) > 3])\n",
    "    \n",
    "    # compute the distances between these pairs in the native state\n",
    "    heavy_pairs_distances = md.compute_distances(native[0], heavy_pairs)[0]\n",
    "    # and get the pairs s.t. the distance is less than NATIVE_CUTOFF\n",
    "    native_contacts = heavy_pairs[heavy_pairs_distances < NATIVE_CUTOFF]\n",
    "    print(\"Number of native contacts\", len(native_contacts))\n",
    "    \n",
    "    # now compute these distances for the whole trajectory\n",
    "    r = md.compute_distances(traj, native_contacts)\n",
    "    # and recompute them for just the native state\n",
    "    r0 = md.compute_distances(native[0], native_contacts)\n",
    "    \n",
    "    q = np.mean(1.0 / (1 + np.exp(BETA_CONST * (r - LAMBDA_CONST * r0))), axis=1)\n",
    "    return q "
   ]
  },
  {
   "cell_type": "code",
   "execution_count": 17,
   "id": "ef09a0c1",
   "metadata": {},
   "outputs": [],
   "source": [
    "xtc = md.load_xtc(\"cytC.xtc\", top=\"cytC.pdb\")"
   ]
  },
  {
   "cell_type": "code",
   "execution_count": 18,
   "id": "e7c3712a",
   "metadata": {},
   "outputs": [
    {
     "name": "stdout",
     "output_type": "stream",
     "text": [
      "Number of native contacts 1349\n"
     ]
    },
    {
     "name": "stderr",
     "output_type": "stream",
     "text": [
      "<ipython-input-2-f8669c0e7ba9>:52: RuntimeWarning: overflow encountered in exp\n",
      "  q = np.mean(1.0 / (1 + np.exp(BETA_CONST * (r - LAMBDA_CONST * r0))), axis=1)\n"
     ]
    }
   ],
   "source": [
    "#pull a random protein from the PDB\n",
    "pdb = md.load_pdb('cytC.pdb')\n",
    "# the unitcell info in this PDB happens to be wrong, so lets\n",
    "# just remove it\n",
    "# traj.unitcell_vectors = None\n",
    "\n",
    "# just for example, use the first frame as the 'native' conformation\n",
    "q = best_hummer_q(xtc, pdb)"
   ]
  },
  {
   "cell_type": "code",
   "execution_count": 19,
   "id": "a1a9da80",
   "metadata": {},
   "outputs": [
    {
     "data": {
      "image/png": "[encoded data removed]",
      "text/plain": [
       "<Figure size 432x288 with 1 Axes>"
      ]
     },
     "metadata": {
      "needs_background": "light"
     },
     "output_type": "display_data"
    }
   ],
   "source": [
    "%matplotlib inline\n",
    "import matplotlib.pyplot as pp\n",
    "pp.plot(q)\n",
    "pp.xlabel('Frame', fontsize=14)\n",
    "pp.ylabel('Q(X)', fontsize=14)\n",
    "pp.show()"
   ]
  },
  {
   "cell_type": "code",
   "execution_count": 11,
   "id": "9bddb8d5",
   "metadata": {},
   "outputs": [
    {
     "data": {
      "text/plain": [
       "array([0.9401711 , 0.93662876, 0.9387385 , ..., 0.8689292 , 0.87542504,\n",
       "       0.8655256 ], dtype=float32)"
      ]
     },
     "execution_count": 11,
     "metadata": {},
     "output_type": "execute_result"
    }
   ],
   "source": [
    "q"
   ]
  },
  {
   "cell_type": "code",
   "execution_count": 9,
   "id": "7f2a8c66",
   "metadata": {},
   "outputs": [
    {
     "data": {
      "text/plain": [
       "<mdtraj.Trajectory with 1 frames, 660 atoms, 134 residues, without unitcells at 0x7fa550383850>"
      ]
     },
     "execution_count": 9,
     "metadata": {},
     "output_type": "execute_result"
    }
   ],
   "source": [
    "traj"
   ]
  },
  {
   "cell_type": "code",
   "execution_count": 6,
   "id": "8a705b41",
   "metadata": {},
   "outputs": [
    {
     "data": {
      "text/plain": [
       "<mdtraj.Trajectory with 1 frames, 1110 atoms, 67 residues, without unitcells at 0x7fa51031f7f0>"
      ]
     },
     "execution_count": 6,
     "metadata": {},
     "output_type": "execute_result"
    }
   ],
   "source": [
    "traj[0]"
   ]
  },
  {
   "cell_type": "code",
   "execution_count": 3,
   "id": "f600a31c",
   "metadata": {},
   "outputs": [
    {
     "data": {
      "text/plain": [
       "<mdtraj.Trajectory with 1 frames, 1242 atoms, 76 residues, and unitcells at 0x7fb5a884d3a0>"
      ]
     },
     "execution_count": 3,
     "metadata": {},
     "output_type": "execute_result"
    }
   ],
   "source": [
    "pdb = md.load_pdb('UBQ11+/NC_pos/pos_ubq.pdb')\n",
    "pdb"
   ]
  },
  {
   "cell_type": "code",
   "execution_count": 20,
   "id": "f2dcf52d",
   "metadata": {},
   "outputs": [],
   "source": [
    "np.savetxt('cytC.csv', q.T)"
   ]
  }
 ],
 "metadata": {
  "kernelspec": {
   "display_name": "Python 3",
   "language": "python",
   "name": "python3"
  },
  "language_info": {
   "codemirror_mode": {
    "name": "ipython",
    "version": 3
   },
   "file_extension": ".py",
   "mimetype": "text/x-python",
   "name": "python",
   "nbconvert_exporter": "python",
   "pygments_lexer": "ipython3",
   "version": "3.8.8"
  }
 },
 "nbformat": 4,
 "nbformat_minor": 5
}
